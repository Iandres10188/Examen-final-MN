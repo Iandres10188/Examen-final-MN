{
 "cells": [
  {
   "cell_type": "code",
   "execution_count": null,
   "metadata": {},
   "outputs": [],
   "source": [
    "from src import gauss_jacobi\n",
    "from src import gauss_seidel\n",
    "import numpy as np\n",
    "import matplotlib.pyplot as plt\n",
    "\n",
    "n = A.shape[0]\n",
    "    x = x0.copy()\n",
    "\n",
    "    logging.info(f\"i= {0} x: {x.T}\")\n",
    "    for k in range(1, max_iter):\n",
    "        x_new = np.zeros((n, 1))  # prealloc\n",
    "        for i in range(n):\n",
    "            suma = sum([A[i, j] * x[j] for j in range(n) if j != i])\n",
    "            x_new[i] = (b[i] - suma) / A[i, i]\n",
    "\n",
    "        if np.linalg.norm(x_new - x) < tol:\n",
    "            return x_new\n",
    "\n",
    "        x = x_new.copy()\n",
    "        logging.info(f\"i= {k} x: {x.T}\")\n",
    "\n",
    "    return x"
   ]
  }
 ],
 "metadata": {
  "language_info": {
   "name": "python"
  }
 },
 "nbformat": 4,
 "nbformat_minor": 2
}
